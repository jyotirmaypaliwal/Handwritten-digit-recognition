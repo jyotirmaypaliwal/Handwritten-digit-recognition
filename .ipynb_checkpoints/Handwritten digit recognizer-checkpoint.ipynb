{
 "cells": [
  {
   "cell_type": "markdown",
   "id": "6a4e7769-218b-4ad2-ae8c-678904406b01",
   "metadata": {},
   "source": [
    "# Handwritten digit recognizer on MNIST data using Logistic Regression\n",
    "\n",
    "## Importing sklearn and loading data from openML"
   ]
  },
  {
   "cell_type": "code",
   "execution_count": 23,
   "id": "794af4fd-20bb-454e-83f1-15dac6d69954",
   "metadata": {},
   "outputs": [],
   "source": [
    "from sklearn.datasets import fetch_openml\n",
    "mnist = fetch_openml('mnist_784')"
   ]
  },
  {
   "cell_type": "markdown",
   "id": "948c8a17-8bba-4dde-bf0b-5cf3025db48f",
   "metadata": {},
   "source": [
    "## Splitting data in test and train set"
   ]
  },
  {
   "cell_type": "code",
   "execution_count": 24,
   "id": "a9425b00-8e06-4883-9c15-6cd8b48505af",
   "metadata": {},
   "outputs": [],
   "source": [
    "from sklearn.model_selection import train_test_split\n",
    "train_img, test_img, train_lbl, test_lbl = train_test_split(mnist.data, mnist.target, test_size=1/7.0, random_state=0)"
   ]
  },
  {
   "cell_type": "markdown",
   "id": "d487391a-6d59-4b68-9684-04e2d49b0023",
   "metadata": {},
   "source": [
    "## Importing Logistic Regression from Scikit learn"
   ]
  },
  {
   "cell_type": "code",
   "execution_count": 25,
   "id": "31cb7832-b1c1-454f-bdcb-ac2764acc2c2",
   "metadata": {},
   "outputs": [],
   "source": [
    "from sklearn.linear_model import LogisticRegression"
   ]
  },
  {
   "cell_type": "markdown",
   "id": "08fd3487-4a3e-456b-8db0-c1cc11e50ddc",
   "metadata": {},
   "source": [
    "## Shape"
   ]
  },
  {
   "cell_type": "code",
   "execution_count": 26,
   "id": "60015070-b612-4758-af67-fe12da622a52",
   "metadata": {},
   "outputs": [
    {
     "data": {
      "text/plain": [
       "(60000, 784)"
      ]
     },
     "execution_count": 26,
     "metadata": {},
     "output_type": "execute_result"
    }
   ],
   "source": [
    "train_img.shape"
   ]
  },
  {
   "cell_type": "markdown",
   "id": "53daf4a2-869b-4f42-8eb2-524d8232ec27",
   "metadata": {},
   "source": [
    "## Running Logistic Regression using SAGA"
   ]
  },
  {
   "cell_type": "code",
   "execution_count": 27,
   "id": "8ea01624-c51e-4d5a-b29c-30548e40ba44",
   "metadata": {},
   "outputs": [],
   "source": [
    "logisticRegr = LogisticRegression(fit_intercept=True,\n",
    "                        multi_class='auto',\n",
    "                        penalty='l1', #lasso regression\n",
    "                        solver='saga',\n",
    "                        max_iter=1000,\n",
    "                        C=50, verbose=2, tol=0.01)"
   ]
  },
  {
   "cell_type": "code",
   "execution_count": 28,
   "id": "d0939019-f936-4d6c-9670-214e6914a890",
   "metadata": {},
   "outputs": [
    {
     "name": "stderr",
     "output_type": "stream",
     "text": [
      "[Parallel(n_jobs=1)]: Using backend SequentialBackend with 1 concurrent workers.\n"
     ]
    },
    {
     "name": "stdout",
     "output_type": "stream",
     "text": [
      "convergence after 48 epochs took 190 seconds\n"
     ]
    },
    {
     "name": "stderr",
     "output_type": "stream",
     "text": [
      "[Parallel(n_jobs=1)]: Done   1 out of   1 | elapsed:  3.2min remaining:    0.0s\n",
      "[Parallel(n_jobs=1)]: Done   1 out of   1 | elapsed:  3.2min finished\n"
     ]
    },
    {
     "data": {
      "text/plain": [
       "LogisticRegression(C=50, max_iter=1000, penalty='l1', solver='saga', tol=0.01,\n",
       "                   verbose=2)"
      ]
     },
     "execution_count": 28,
     "metadata": {},
     "output_type": "execute_result"
    }
   ],
   "source": [
    "logisticRegr.fit(train_img, train_lbl)"
   ]
  },
  {
   "cell_type": "markdown",
   "id": "8d39dad9-8c28-4bb5-a55f-60d605746ce3",
   "metadata": {},
   "source": [
    "## Testing our result against testing set"
   ]
  },
  {
   "cell_type": "code",
   "execution_count": 29,
   "id": "b89b91c0-8ac4-4c28-b761-2d43e10ec05c",
   "metadata": {},
   "outputs": [
    {
     "name": "stdout",
     "output_type": "stream",
     "text": [
      "0.9192\n"
     ]
    }
   ],
   "source": [
    "score = logisticRegr.score(test_img, test_lbl)\n",
    "print(score)"
   ]
  },
  {
   "cell_type": "markdown",
   "id": "a1fe9ce7-d74f-498f-a13f-c40cae935392",
   "metadata": {},
   "source": [
    "## 0.9192 means we predicted correctly with 91% accuracy"
   ]
  }
 ],
 "metadata": {
  "kernelspec": {
   "display_name": "Python 3 (ipykernel)",
   "language": "python",
   "name": "python3"
  },
  "language_info": {
   "codemirror_mode": {
    "name": "ipython",
    "version": 3
   },
   "file_extension": ".py",
   "mimetype": "text/x-python",
   "name": "python",
   "nbconvert_exporter": "python",
   "pygments_lexer": "ipython3",
   "version": "3.9.7"
  }
 },
 "nbformat": 4,
 "nbformat_minor": 5
}
